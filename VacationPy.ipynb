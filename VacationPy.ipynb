{
 "cells": [
  {
   "cell_type": "markdown",
   "metadata": {},
   "source": [
    "# VacationPy\n",
    "----\n",
    "\n",
    "#### Note\n",
    "* Keep an eye on your API usage. Use https://developers.google.com/maps/reporting/gmp-reporting as reference for how to monitor your usage and billing.\n",
    "\n",
    "* Instructions have been included for each segment. You do not have to follow them exactly, but they are included to help you think through the steps."
   ]
  },
  {
   "cell_type": "code",
   "execution_count": 2,
   "metadata": {},
   "outputs": [],
   "source": [
    "# Dependencies and Setup\n",
    "import matplotlib.pyplot as plt\n",
    "import pandas as pd\n",
    "import numpy as np\n",
    "import requests\n",
    "import gmaps\n",
    "import os\n",
    "\n",
    "# Import API key\n",
    "from api_keys import g_key"
   ]
  },
  {
   "cell_type": "markdown",
   "metadata": {},
   "source": [
    "### Store Part I results into DataFrame\n",
    "* Load the csv exported in Part I to a DataFrame"
   ]
  },
  {
   "cell_type": "code",
   "execution_count": 3,
   "metadata": {},
   "outputs": [
    {
     "output_type": "execute_result",
     "data": {
      "text/plain": [
       "      Unnamed: 0            City  Latitude  Longitude  Temperature  Humidity  \\\n",
       "0              0  severo-kurilsk   50.6789   156.1250       39.830        79   \n",
       "1              1      wloszczowa   50.8526    19.9659       52.934        79   \n",
       "2              2         mataura  -46.1927   168.8643       55.274        70   \n",
       "3              3           airai   -8.9266   125.4092       73.472        60   \n",
       "4              4         salalah   17.0151    54.0924       82.670        83   \n",
       "...          ...             ...       ...        ...          ...       ...   \n",
       "1306        1306       yangjiang   21.8500   111.9667       80.276        56   \n",
       "1307        1307     kinablangan    7.6947   126.5503       83.876        68   \n",
       "1308        1308       kropotkin   45.4375    40.5756       52.610        95   \n",
       "1309        1309     thunder bay   48.4001   -89.3168       45.932        61   \n",
       "1310        1310           mound   44.9366   -93.6661       56.840        47   \n",
       "\n",
       "      Cloudiness %  Wind Speed (mph)  \n",
       "0               19              2.87  \n",
       "1              100              0.89  \n",
       "2               62              6.71  \n",
       "3               18              1.56  \n",
       "4               75              1.54  \n",
       "...            ...               ...  \n",
       "1306            92              0.50  \n",
       "1307           100              1.97  \n",
       "1308            76              3.43  \n",
       "1309            75              5.66  \n",
       "1310            42              0.45  \n",
       "\n",
       "[1311 rows x 8 columns]"
      ],
      "text/html": "<div>\n<style scoped>\n    .dataframe tbody tr th:only-of-type {\n        vertical-align: middle;\n    }\n\n    .dataframe tbody tr th {\n        vertical-align: top;\n    }\n\n    .dataframe thead th {\n        text-align: right;\n    }\n</style>\n<table border=\"1\" class=\"dataframe\">\n  <thead>\n    <tr style=\"text-align: right;\">\n      <th></th>\n      <th>Unnamed: 0</th>\n      <th>City</th>\n      <th>Latitude</th>\n      <th>Longitude</th>\n      <th>Temperature</th>\n      <th>Humidity</th>\n      <th>Cloudiness %</th>\n      <th>Wind Speed (mph)</th>\n    </tr>\n  </thead>\n  <tbody>\n    <tr>\n      <th>0</th>\n      <td>0</td>\n      <td>severo-kurilsk</td>\n      <td>50.6789</td>\n      <td>156.1250</td>\n      <td>39.830</td>\n      <td>79</td>\n      <td>19</td>\n      <td>2.87</td>\n    </tr>\n    <tr>\n      <th>1</th>\n      <td>1</td>\n      <td>wloszczowa</td>\n      <td>50.8526</td>\n      <td>19.9659</td>\n      <td>52.934</td>\n      <td>79</td>\n      <td>100</td>\n      <td>0.89</td>\n    </tr>\n    <tr>\n      <th>2</th>\n      <td>2</td>\n      <td>mataura</td>\n      <td>-46.1927</td>\n      <td>168.8643</td>\n      <td>55.274</td>\n      <td>70</td>\n      <td>62</td>\n      <td>6.71</td>\n    </tr>\n    <tr>\n      <th>3</th>\n      <td>3</td>\n      <td>airai</td>\n      <td>-8.9266</td>\n      <td>125.4092</td>\n      <td>73.472</td>\n      <td>60</td>\n      <td>18</td>\n      <td>1.56</td>\n    </tr>\n    <tr>\n      <th>4</th>\n      <td>4</td>\n      <td>salalah</td>\n      <td>17.0151</td>\n      <td>54.0924</td>\n      <td>82.670</td>\n      <td>83</td>\n      <td>75</td>\n      <td>1.54</td>\n    </tr>\n    <tr>\n      <th>...</th>\n      <td>...</td>\n      <td>...</td>\n      <td>...</td>\n      <td>...</td>\n      <td>...</td>\n      <td>...</td>\n      <td>...</td>\n      <td>...</td>\n    </tr>\n    <tr>\n      <th>1306</th>\n      <td>1306</td>\n      <td>yangjiang</td>\n      <td>21.8500</td>\n      <td>111.9667</td>\n      <td>80.276</td>\n      <td>56</td>\n      <td>92</td>\n      <td>0.50</td>\n    </tr>\n    <tr>\n      <th>1307</th>\n      <td>1307</td>\n      <td>kinablangan</td>\n      <td>7.6947</td>\n      <td>126.5503</td>\n      <td>83.876</td>\n      <td>68</td>\n      <td>100</td>\n      <td>1.97</td>\n    </tr>\n    <tr>\n      <th>1308</th>\n      <td>1308</td>\n      <td>kropotkin</td>\n      <td>45.4375</td>\n      <td>40.5756</td>\n      <td>52.610</td>\n      <td>95</td>\n      <td>76</td>\n      <td>3.43</td>\n    </tr>\n    <tr>\n      <th>1309</th>\n      <td>1309</td>\n      <td>thunder bay</td>\n      <td>48.4001</td>\n      <td>-89.3168</td>\n      <td>45.932</td>\n      <td>61</td>\n      <td>75</td>\n      <td>5.66</td>\n    </tr>\n    <tr>\n      <th>1310</th>\n      <td>1310</td>\n      <td>mound</td>\n      <td>44.9366</td>\n      <td>-93.6661</td>\n      <td>56.840</td>\n      <td>47</td>\n      <td>42</td>\n      <td>0.45</td>\n    </tr>\n  </tbody>\n</table>\n<p>1311 rows × 8 columns</p>\n</div>"
     },
     "metadata": {},
     "execution_count": 3
    }
   ],
   "source": [
    "weather_df = pd.read_csv('weather_data.csv')\n",
    "weather_df"
   ]
  },
  {
   "cell_type": "markdown",
   "metadata": {},
   "source": [
    "### Humidity Heatmap\n",
    "* Configure gmaps.\n",
    "* Use the Lat and Lng as locations and Humidity as the weight.\n",
    "* Add Heatmap layer to map."
   ]
  },
  {
   "cell_type": "code",
   "execution_count": null,
   "metadata": {},
   "outputs": [],
   "source": [
    "gmaps.configure(api_key=g_key)"
   ]
  },
  {
   "cell_type": "code",
   "execution_count": 17,
   "metadata": {},
   "outputs": [
    {
     "output_type": "display_data",
     "data": {
      "text/plain": "Figure(layout=FigureLayout(height='420px'))",
      "application/vnd.jupyter.widget-view+json": {
       "version_major": 2,
       "version_minor": 0,
       "model_id": "eeb4219283e7498b812ef0b005ab2db0"
      }
     },
     "metadata": {}
    }
   ],
   "source": [
    "locations = weather_df[[\"Latitude\", \"Longitude\"]]\n",
    "humid = weather_df['Humidity']\n",
    "fig = gmaps.figure()\n",
    "\n",
    "# Create heat layer\n",
    "heat_layer = gmaps.heatmap_layer(locations, weights=humid, \n",
    "                                 dissipating=False, max_intensity=50,\n",
    "                                 point_radius=1)\n",
    "\n",
    "# Add layer\n",
    "fig.add_layer(heat_layer)\n",
    "\n",
    "# Display figure\n",
    "fig"
   ]
  },
  {
   "cell_type": "markdown",
   "metadata": {},
   "source": [
    "### Create new DataFrame fitting weather criteria\n",
    "* Narrow down the cities to fit weather conditions.\n",
    "* Drop any rows will null values."
   ]
  },
  {
   "cell_type": "code",
   "execution_count": 65,
   "metadata": {},
   "outputs": [
    {
     "output_type": "execute_result",
     "data": {
      "text/plain": [
       "      Unnamed: 0         City  Latitude  Longitude  Temperature  Humidity  \\\n",
       "340          340     berlevag   70.8578    29.0864       29.570        68   \n",
       "699          699     skjervoy   70.0311    20.9714       30.776        62   \n",
       "1253        1253  honningsvag   70.9821    25.9704       29.984        56   \n",
       "\n",
       "      Cloudiness %  Wind Speed (mph) Hotel Name  \n",
       "340            100             11.79             \n",
       "699            100             10.59             \n",
       "1253           100             10.49             "
      ],
      "text/html": "<div>\n<style scoped>\n    .dataframe tbody tr th:only-of-type {\n        vertical-align: middle;\n    }\n\n    .dataframe tbody tr th {\n        vertical-align: top;\n    }\n\n    .dataframe thead th {\n        text-align: right;\n    }\n</style>\n<table border=\"1\" class=\"dataframe\">\n  <thead>\n    <tr style=\"text-align: right;\">\n      <th></th>\n      <th>Unnamed: 0</th>\n      <th>City</th>\n      <th>Latitude</th>\n      <th>Longitude</th>\n      <th>Temperature</th>\n      <th>Humidity</th>\n      <th>Cloudiness %</th>\n      <th>Wind Speed (mph)</th>\n      <th>Hotel Name</th>\n    </tr>\n  </thead>\n  <tbody>\n    <tr>\n      <th>340</th>\n      <td>340</td>\n      <td>berlevag</td>\n      <td>70.8578</td>\n      <td>29.0864</td>\n      <td>29.570</td>\n      <td>68</td>\n      <td>100</td>\n      <td>11.79</td>\n      <td></td>\n    </tr>\n    <tr>\n      <th>699</th>\n      <td>699</td>\n      <td>skjervoy</td>\n      <td>70.0311</td>\n      <td>20.9714</td>\n      <td>30.776</td>\n      <td>62</td>\n      <td>100</td>\n      <td>10.59</td>\n      <td></td>\n    </tr>\n    <tr>\n      <th>1253</th>\n      <td>1253</td>\n      <td>honningsvag</td>\n      <td>70.9821</td>\n      <td>25.9704</td>\n      <td>29.984</td>\n      <td>56</td>\n      <td>100</td>\n      <td>10.49</td>\n      <td></td>\n    </tr>\n  </tbody>\n</table>\n</div>"
     },
     "metadata": {},
     "execution_count": 65
    }
   ],
   "source": [
    "#temp below 80 \n",
    "#100% cloudy\n",
    "#wind speed over 10mph\n",
    "\n",
    "hotel_df = weather_df[weather_df['Temperature'] < 80]\n",
    "hotel_df = hotel_df[hotel_df['Cloudiness %'] == 100]\n",
    "hotel_df = hotel_df[hotel_df['Wind Speed (mph)'] > 10]\n",
    "hotel_df['Hotel Name'] = \"\"\n",
    "hotel_df"
   ]
  },
  {
   "cell_type": "markdown",
   "metadata": {},
   "source": [
    "### Hotel Map\n",
    "* Store into variable named `hotel_df`.\n",
    "* Add a \"Hotel Name\" column to the DataFrame.\n",
    "* Set parameters to search for hotels with 5000 meters.\n",
    "* Hit the Google Places API for each city's coordinates.\n",
    "* Store the first Hotel result into the DataFrame.\n",
    "* Plot markers on top of the heatmap."
   ]
  },
  {
   "cell_type": "code",
   "execution_count": null,
   "metadata": {},
   "outputs": [],
   "source": []
  },
  {
   "cell_type": "code",
   "execution_count": 66,
   "metadata": {},
   "outputs": [
    {
     "output_type": "execute_result",
     "data": {
      "text/plain": [
       "      Unnamed: 0         City  Latitude  Longitude  Temperature  Humidity  \\\n",
       "340          340     berlevag   70.8578    29.0864       29.570        68   \n",
       "699          699     skjervoy   70.0311    20.9714       30.776        62   \n",
       "1253        1253  honningsvag   70.9821    25.9704       29.984        56   \n",
       "\n",
       "      Cloudiness %  Wind Speed (mph) Hotel Name  \\\n",
       "340            100             11.79              \n",
       "699            100             10.59              \n",
       "1253           100             10.49              \n",
       "\n",
       "                            Hotel Names  \n",
       "340   Berlevåg camping & Appartement AS  \n",
       "699           Hotel Maritim Skjervøy AS  \n",
       "1253                    Scandic Bryggen  "
      ],
      "text/html": "<div>\n<style scoped>\n    .dataframe tbody tr th:only-of-type {\n        vertical-align: middle;\n    }\n\n    .dataframe tbody tr th {\n        vertical-align: top;\n    }\n\n    .dataframe thead th {\n        text-align: right;\n    }\n</style>\n<table border=\"1\" class=\"dataframe\">\n  <thead>\n    <tr style=\"text-align: right;\">\n      <th></th>\n      <th>Unnamed: 0</th>\n      <th>City</th>\n      <th>Latitude</th>\n      <th>Longitude</th>\n      <th>Temperature</th>\n      <th>Humidity</th>\n      <th>Cloudiness %</th>\n      <th>Wind Speed (mph)</th>\n      <th>Hotel Name</th>\n      <th>Hotel Names</th>\n    </tr>\n  </thead>\n  <tbody>\n    <tr>\n      <th>340</th>\n      <td>340</td>\n      <td>berlevag</td>\n      <td>70.8578</td>\n      <td>29.0864</td>\n      <td>29.570</td>\n      <td>68</td>\n      <td>100</td>\n      <td>11.79</td>\n      <td></td>\n      <td>Berlevåg camping &amp; Appartement AS</td>\n    </tr>\n    <tr>\n      <th>699</th>\n      <td>699</td>\n      <td>skjervoy</td>\n      <td>70.0311</td>\n      <td>20.9714</td>\n      <td>30.776</td>\n      <td>62</td>\n      <td>100</td>\n      <td>10.59</td>\n      <td></td>\n      <td>Hotel Maritim Skjervøy AS</td>\n    </tr>\n    <tr>\n      <th>1253</th>\n      <td>1253</td>\n      <td>honningsvag</td>\n      <td>70.9821</td>\n      <td>25.9704</td>\n      <td>29.984</td>\n      <td>56</td>\n      <td>100</td>\n      <td>10.49</td>\n      <td></td>\n      <td>Scandic Bryggen</td>\n    </tr>\n  </tbody>\n</table>\n</div>"
     },
     "metadata": {},
     "execution_count": 66
    }
   ],
   "source": [
    "# 4. Find a balloon store near the White House.\n",
    "hotel_names = []\n",
    "hotels_lat = []\n",
    "hotels_lng = []\n",
    "for i, row in hotel_df.iterrows():\n",
    "    search = \"Hotel\"\n",
    "    coords = f\"{row['Latitude']},{row['Longitude']}\"\n",
    "    radius = 5000\n",
    "    \n",
    "    # redefine params\n",
    "    params = {\n",
    "        \"location\": coords,\n",
    "        \"keyword\": search,\n",
    "        \"radius\": radius,\n",
    "        \"key\": g_key\n",
    "    }\n",
    "\n",
    "    # Build URL using the Google Maps API\n",
    "    base_url = \"https://maps.googleapis.com/maps/api/place/nearbysearch/json\"\n",
    "\n",
    "    # Run request\n",
    "    current_hotel = requests.get(base_url, params).json()\n",
    "   \n",
    "    hotel_name = current_hotel[\"results\"][0][\"name\"]\n",
    "    hotel_lat = current_hotel[\"results\"][0][\"geometry\"][\"location\"][\"lat\"]\n",
    "    hotel_lng = current_hotel[\"results\"][0][\"geometry\"][\"location\"][\"lng\"]\n",
    "\n",
    "    hotel_names.append(hotel_name)\n",
    "    hotels_lat.append(hotel_lat)\n",
    "    hotels_lng.append(hotel_lng)\n",
    "\n",
    "hotel_df['Hotel Names'] = hotel_names\n",
    "hotel_df"
   ]
  },
  {
   "cell_type": "code",
   "execution_count": 75,
   "metadata": {},
   "outputs": [
    {
     "output_type": "error",
     "ename": "KeyError",
     "evalue": "'Country'",
     "traceback": [
      "\u001b[1;31m---------------------------------------------------------------------------\u001b[0m",
      "\u001b[1;31mKeyError\u001b[0m                                  Traceback (most recent call last)",
      "\u001b[1;32m<ipython-input-75-464b2b3e63ad>\u001b[0m in \u001b[0;36m<module>\u001b[1;34m\u001b[0m\n\u001b[0;32m     11\u001b[0m \u001b[1;31m# Store the DataFrame Row\u001b[0m\u001b[1;33m\u001b[0m\u001b[1;33m\u001b[0m\u001b[1;33m\u001b[0m\u001b[0m\n\u001b[0;32m     12\u001b[0m \u001b[1;31m# NOTE: be sure to update with your DataFrame name\u001b[0m\u001b[1;33m\u001b[0m\u001b[1;33m\u001b[0m\u001b[1;33m\u001b[0m\u001b[0m\n\u001b[1;32m---> 13\u001b[1;33m \u001b[0mhotel_info\u001b[0m \u001b[1;33m=\u001b[0m \u001b[1;33m[\u001b[0m\u001b[0minfo_box_template\u001b[0m\u001b[1;33m.\u001b[0m\u001b[0mformat\u001b[0m\u001b[1;33m(\u001b[0m\u001b[1;33m**\u001b[0m\u001b[0mrow\u001b[0m\u001b[1;33m)\u001b[0m \u001b[1;32mfor\u001b[0m \u001b[0mindex\u001b[0m\u001b[1;33m,\u001b[0m \u001b[0mrow\u001b[0m \u001b[1;32min\u001b[0m \u001b[0mhotel_df\u001b[0m\u001b[1;33m.\u001b[0m\u001b[0miterrows\u001b[0m\u001b[1;33m(\u001b[0m\u001b[1;33m)\u001b[0m\u001b[1;33m]\u001b[0m\u001b[1;33m\u001b[0m\u001b[1;33m\u001b[0m\u001b[0m\n\u001b[0m\u001b[0;32m     14\u001b[0m \u001b[0mlocations\u001b[0m \u001b[1;33m=\u001b[0m \u001b[0mhotel_df\u001b[0m\u001b[1;33m[\u001b[0m\u001b[1;33m[\u001b[0m\u001b[1;34m\"Lat\"\u001b[0m\u001b[1;33m,\u001b[0m \u001b[1;34m\"Lng\"\u001b[0m\u001b[1;33m]\u001b[0m\u001b[1;33m]\u001b[0m\u001b[1;33m\u001b[0m\u001b[1;33m\u001b[0m\u001b[0m\n",
      "\u001b[1;32m<ipython-input-75-464b2b3e63ad>\u001b[0m in \u001b[0;36m<listcomp>\u001b[1;34m(.0)\u001b[0m\n\u001b[0;32m     11\u001b[0m \u001b[1;31m# Store the DataFrame Row\u001b[0m\u001b[1;33m\u001b[0m\u001b[1;33m\u001b[0m\u001b[1;33m\u001b[0m\u001b[0m\n\u001b[0;32m     12\u001b[0m \u001b[1;31m# NOTE: be sure to update with your DataFrame name\u001b[0m\u001b[1;33m\u001b[0m\u001b[1;33m\u001b[0m\u001b[1;33m\u001b[0m\u001b[0m\n\u001b[1;32m---> 13\u001b[1;33m \u001b[0mhotel_info\u001b[0m \u001b[1;33m=\u001b[0m \u001b[1;33m[\u001b[0m\u001b[0minfo_box_template\u001b[0m\u001b[1;33m.\u001b[0m\u001b[0mformat\u001b[0m\u001b[1;33m(\u001b[0m\u001b[1;33m**\u001b[0m\u001b[0mrow\u001b[0m\u001b[1;33m)\u001b[0m \u001b[1;32mfor\u001b[0m \u001b[0mindex\u001b[0m\u001b[1;33m,\u001b[0m \u001b[0mrow\u001b[0m \u001b[1;32min\u001b[0m \u001b[0mhotel_df\u001b[0m\u001b[1;33m.\u001b[0m\u001b[0miterrows\u001b[0m\u001b[1;33m(\u001b[0m\u001b[1;33m)\u001b[0m\u001b[1;33m]\u001b[0m\u001b[1;33m\u001b[0m\u001b[1;33m\u001b[0m\u001b[0m\n\u001b[0m\u001b[0;32m     14\u001b[0m \u001b[0mlocations\u001b[0m \u001b[1;33m=\u001b[0m \u001b[0mhotel_df\u001b[0m\u001b[1;33m[\u001b[0m\u001b[1;33m[\u001b[0m\u001b[1;34m\"Lat\"\u001b[0m\u001b[1;33m,\u001b[0m \u001b[1;34m\"Lng\"\u001b[0m\u001b[1;33m]\u001b[0m\u001b[1;33m]\u001b[0m\u001b[1;33m\u001b[0m\u001b[1;33m\u001b[0m\u001b[0m\n",
      "\u001b[1;31mKeyError\u001b[0m: 'Country'"
     ]
    }
   ],
   "source": [
    "# NOTE: Do not change any of the code in this cell\n",
    "\n",
    "# Using the template add the hotel marks to the heatmap\n",
    "info_box_template = \"\"\"\n",
    "<dl>\n",
    "<dt>Name</dt><dd>{Hotel Name}</dd>\n",
    "<dt>City</dt><dd>{City}</dd>\n",
    "<dt>Country</dt><dd>{Country}</dd>\n",
    "</dl>\n",
    "\"\"\"\n",
    "# Store the DataFrame Row\n",
    "# NOTE: be sure to update with your DataFrame name\n",
    "hotel_info = [info_box_template.format(**row) for index, row in hotel_df.iterrows()]\n",
    "locations = hotel_df[[\"Lat\", \"Lng\"]]"
   ]
  },
  {
   "cell_type": "code",
   "execution_count": 74,
   "metadata": {},
   "outputs": [
    {
     "output_type": "display_data",
     "data": {
      "text/plain": "Figure(layout=FigureLayout(height='420px'))",
      "application/vnd.jupyter.widget-view+json": {
       "version_major": 2,
       "version_minor": 0,
       "model_id": "eeb4219283e7498b812ef0b005ab2db0"
      }
     },
     "metadata": {}
    }
   ],
   "source": [
    "# Add marker layer ontop of heat map\n",
    "coordinates = zip(hotels_lat, hotels_lng)\n",
    "coordinates = list(coordinates)\n",
    "# Display figure\n",
    "markers = gmaps.marker_layer(coordinates)\n",
    "# Add the layer to the map\n",
    "fig.add_layer(markers)\n",
    "fig"
   ]
  },
  {
   "cell_type": "code",
   "execution_count": null,
   "metadata": {},
   "outputs": [],
   "source": []
  }
 ],
 "metadata": {
  "kernelspec": {
   "name": "python3610jvsc74a57bd038f934b83c7878c7af716cf61b4a3e24bc3639c5744e081035f4202c89c484f1",
   "display_name": "Python 3.6.10 64-bit ('PythonData': conda)"
  },
  "language_info": {
   "codemirror_mode": {
    "name": "ipython",
    "version": 3
   },
   "file_extension": ".py",
   "mimetype": "text/x-python",
   "name": "python",
   "nbconvert_exporter": "python",
   "pygments_lexer": "ipython3",
   "version": "3.6.10"
  },
  "latex_envs": {
   "LaTeX_envs_menu_present": true,
   "autoclose": false,
   "autocomplete": true,
   "bibliofile": "biblio.bib",
   "cite_by": "apalike",
   "current_citInitial": 1,
   "eqLabelWithNumbers": true,
   "eqNumInitial": 1,
   "hotkeys": {
    "equation": "Ctrl-E",
    "itemize": "Ctrl-I"
   },
   "labels_anchors": false,
   "latex_user_defs": false,
   "report_style_numbering": false,
   "user_envs_cfg": false
  }
 },
 "nbformat": 4,
 "nbformat_minor": 4
}