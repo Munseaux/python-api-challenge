{
 "cells": [
  {
   "cell_type": "markdown",
   "metadata": {},
   "source": [
    "# VacationPy\n",
    "----\n",
    "\n",
    "#### Note\n",
    "* Keep an eye on your API usage. Use https://developers.google.com/maps/reporting/gmp-reporting as reference for how to monitor your usage and billing.\n",
    "\n",
    "* Instructions have been included for each segment. You do not have to follow them exactly, but they are included to help you think through the steps."
   ]
  },
  {
   "cell_type": "code",
   "execution_count": 79,
   "metadata": {},
   "outputs": [],
   "source": [
    "# Dependencies and Setup\n",
    "import matplotlib.pyplot as plt\n",
    "import pandas as pd\n",
    "import numpy as np\n",
    "import requests\n",
    "import gmaps\n",
    "import os\n",
    "\n",
    "# Import API key\n",
    "from api_keys import g_key"
   ]
  },
  {
   "cell_type": "markdown",
   "metadata": {},
   "source": [
    "### Store Part I results into DataFrame\n",
    "* Load the csv exported in Part I to a DataFrame"
   ]
  },
  {
   "cell_type": "code",
   "execution_count": 80,
   "metadata": {},
   "outputs": [
    {
     "output_type": "execute_result",
     "data": {
      "text/plain": [
       "      Unnamed: 0                 City  Latitude  Longitude  Temperature  \\\n",
       "0              0            rubtsovsk   51.5000    81.2500       48.560   \n",
       "1              1        pangkalanbuun   -2.6833   111.6167       80.204   \n",
       "2              2        leningradskiy   69.3833   178.4167       19.436   \n",
       "3              3          new norfolk  -42.7826   147.0587       62.816   \n",
       "4              4              kichera   55.9375   110.0997       38.876   \n",
       "...          ...                  ...       ...        ...          ...   \n",
       "1305        1305                  lar   26.2039    83.9717       84.362   \n",
       "1306        1306                bajil   15.0584    43.2851       84.992   \n",
       "1307        1307       pau dos ferros   -6.1125   -38.2063       77.072   \n",
       "1308        1308  lampazos de naranjo   27.0167  -100.5167       66.362   \n",
       "1309        1309          guadalajara   20.6667  -103.3333       85.136   \n",
       "\n",
       "      Humidity  Cloudiness %  Wind Speed (mph)  \n",
       "0           51           100              2.99  \n",
       "1           84            95              1.37  \n",
       "2           92           100             10.70  \n",
       "3           55            75              5.14  \n",
       "4           62           100              0.72  \n",
       "...        ...           ...               ...  \n",
       "1305        34             0              3.22  \n",
       "1306        56            96              1.86  \n",
       "1307        70           100              1.19  \n",
       "1308        76           100              4.30  \n",
       "1309        14            40              7.20  \n",
       "\n",
       "[1310 rows x 8 columns]"
      ],
      "text/html": "<div>\n<style scoped>\n    .dataframe tbody tr th:only-of-type {\n        vertical-align: middle;\n    }\n\n    .dataframe tbody tr th {\n        vertical-align: top;\n    }\n\n    .dataframe thead th {\n        text-align: right;\n    }\n</style>\n<table border=\"1\" class=\"dataframe\">\n  <thead>\n    <tr style=\"text-align: right;\">\n      <th></th>\n      <th>Unnamed: 0</th>\n      <th>City</th>\n      <th>Latitude</th>\n      <th>Longitude</th>\n      <th>Temperature</th>\n      <th>Humidity</th>\n      <th>Cloudiness %</th>\n      <th>Wind Speed (mph)</th>\n    </tr>\n  </thead>\n  <tbody>\n    <tr>\n      <th>0</th>\n      <td>0</td>\n      <td>rubtsovsk</td>\n      <td>51.5000</td>\n      <td>81.2500</td>\n      <td>48.560</td>\n      <td>51</td>\n      <td>100</td>\n      <td>2.99</td>\n    </tr>\n    <tr>\n      <th>1</th>\n      <td>1</td>\n      <td>pangkalanbuun</td>\n      <td>-2.6833</td>\n      <td>111.6167</td>\n      <td>80.204</td>\n      <td>84</td>\n      <td>95</td>\n      <td>1.37</td>\n    </tr>\n    <tr>\n      <th>2</th>\n      <td>2</td>\n      <td>leningradskiy</td>\n      <td>69.3833</td>\n      <td>178.4167</td>\n      <td>19.436</td>\n      <td>92</td>\n      <td>100</td>\n      <td>10.70</td>\n    </tr>\n    <tr>\n      <th>3</th>\n      <td>3</td>\n      <td>new norfolk</td>\n      <td>-42.7826</td>\n      <td>147.0587</td>\n      <td>62.816</td>\n      <td>55</td>\n      <td>75</td>\n      <td>5.14</td>\n    </tr>\n    <tr>\n      <th>4</th>\n      <td>4</td>\n      <td>kichera</td>\n      <td>55.9375</td>\n      <td>110.0997</td>\n      <td>38.876</td>\n      <td>62</td>\n      <td>100</td>\n      <td>0.72</td>\n    </tr>\n    <tr>\n      <th>...</th>\n      <td>...</td>\n      <td>...</td>\n      <td>...</td>\n      <td>...</td>\n      <td>...</td>\n      <td>...</td>\n      <td>...</td>\n      <td>...</td>\n    </tr>\n    <tr>\n      <th>1305</th>\n      <td>1305</td>\n      <td>lar</td>\n      <td>26.2039</td>\n      <td>83.9717</td>\n      <td>84.362</td>\n      <td>34</td>\n      <td>0</td>\n      <td>3.22</td>\n    </tr>\n    <tr>\n      <th>1306</th>\n      <td>1306</td>\n      <td>bajil</td>\n      <td>15.0584</td>\n      <td>43.2851</td>\n      <td>84.992</td>\n      <td>56</td>\n      <td>96</td>\n      <td>1.86</td>\n    </tr>\n    <tr>\n      <th>1307</th>\n      <td>1307</td>\n      <td>pau dos ferros</td>\n      <td>-6.1125</td>\n      <td>-38.2063</td>\n      <td>77.072</td>\n      <td>70</td>\n      <td>100</td>\n      <td>1.19</td>\n    </tr>\n    <tr>\n      <th>1308</th>\n      <td>1308</td>\n      <td>lampazos de naranjo</td>\n      <td>27.0167</td>\n      <td>-100.5167</td>\n      <td>66.362</td>\n      <td>76</td>\n      <td>100</td>\n      <td>4.30</td>\n    </tr>\n    <tr>\n      <th>1309</th>\n      <td>1309</td>\n      <td>guadalajara</td>\n      <td>20.6667</td>\n      <td>-103.3333</td>\n      <td>85.136</td>\n      <td>14</td>\n      <td>40</td>\n      <td>7.20</td>\n    </tr>\n  </tbody>\n</table>\n<p>1310 rows × 8 columns</p>\n</div>"
     },
     "metadata": {},
     "execution_count": 80
    }
   ],
   "source": [
    "weather_df = pd.read_csv('weather_data.csv')\n",
    "weather_df"
   ]
  },
  {
   "cell_type": "markdown",
   "metadata": {},
   "source": [
    "### Humidity Heatmap\n",
    "* Configure gmaps.\n",
    "* Use the Lat and Lng as locations and Humidity as the weight.\n",
    "* Add Heatmap layer to map."
   ]
  },
  {
   "cell_type": "code",
   "execution_count": 81,
   "metadata": {},
   "outputs": [],
   "source": [
    "gmaps.configure(api_key=g_key)"
   ]
  },
  {
   "cell_type": "code",
   "execution_count": 82,
   "metadata": {},
   "outputs": [
    {
     "output_type": "display_data",
     "data": {
      "text/plain": "Figure(layout=FigureLayout(height='420px'))",
      "application/vnd.jupyter.widget-view+json": {
       "version_major": 2,
       "version_minor": 0,
       "model_id": "69a45d7475894d5ca814ae6cc5a75a22"
      }
     },
     "metadata": {}
    }
   ],
   "source": [
    "locations = weather_df[[\"Latitude\", \"Longitude\"]]\n",
    "humid = weather_df['Humidity']\n",
    "fig = gmaps.figure()\n",
    "\n",
    "# Create heat layer\n",
    "heat_layer = gmaps.heatmap_layer(locations, weights=humid, \n",
    "                                 dissipating=False, max_intensity=50,\n",
    "                                 point_radius=1)\n",
    "\n",
    "# Add layer\n",
    "fig.add_layer(heat_layer)\n",
    "\n",
    "# Display figure\n",
    "fig"
   ]
  },
  {
   "cell_type": "markdown",
   "metadata": {},
   "source": [
    "### Create new DataFrame fitting weather criteria\n",
    "* Narrow down the cities to fit weather conditions.\n",
    "* Drop any rows will null values."
   ]
  },
  {
   "cell_type": "code",
   "execution_count": 83,
   "metadata": {},
   "outputs": [
    {
     "output_type": "execute_result",
     "data": {
      "text/plain": [
       "      Unnamed: 0            City  Latitude  Longitude  Temperature  Humidity  \\\n",
       "2              2   leningradskiy   69.3833   178.4167       19.436        92   \n",
       "25            25          burgeo   47.6167   -57.6152       39.218        93   \n",
       "117          117            lebu  -37.6167   -73.6500       56.390        91   \n",
       "177          177        berlevag   70.8578    29.0864       33.746        72   \n",
       "217          217      tombouctou   20.0000    -3.0000       75.560        55   \n",
       "221          221  severo-kurilsk   50.6789   156.1250       35.528        96   \n",
       "377          377             vao  -22.6667   167.4833       74.588        70   \n",
       "389          389       poronaysk   49.2167   143.1167       38.300        82   \n",
       "421          421      vakhrushev   48.9833   142.9667       35.474        97   \n",
       "1224        1224       marystown   47.1666   -55.1483       39.056        96   \n",
       "\n",
       "      Cloudiness %  Wind Speed (mph) Hotel Name  \n",
       "2              100             10.70             \n",
       "25             100             15.18             \n",
       "117            100             10.22             \n",
       "177            100             12.35             \n",
       "217            100             10.27             \n",
       "221            100             10.18             \n",
       "377            100             10.43             \n",
       "389            100             10.14             \n",
       "421            100             10.43             \n",
       "1224           100             12.25             "
      ],
      "text/html": "<div>\n<style scoped>\n    .dataframe tbody tr th:only-of-type {\n        vertical-align: middle;\n    }\n\n    .dataframe tbody tr th {\n        vertical-align: top;\n    }\n\n    .dataframe thead th {\n        text-align: right;\n    }\n</style>\n<table border=\"1\" class=\"dataframe\">\n  <thead>\n    <tr style=\"text-align: right;\">\n      <th></th>\n      <th>Unnamed: 0</th>\n      <th>City</th>\n      <th>Latitude</th>\n      <th>Longitude</th>\n      <th>Temperature</th>\n      <th>Humidity</th>\n      <th>Cloudiness %</th>\n      <th>Wind Speed (mph)</th>\n      <th>Hotel Name</th>\n    </tr>\n  </thead>\n  <tbody>\n    <tr>\n      <th>2</th>\n      <td>2</td>\n      <td>leningradskiy</td>\n      <td>69.3833</td>\n      <td>178.4167</td>\n      <td>19.436</td>\n      <td>92</td>\n      <td>100</td>\n      <td>10.70</td>\n      <td></td>\n    </tr>\n    <tr>\n      <th>25</th>\n      <td>25</td>\n      <td>burgeo</td>\n      <td>47.6167</td>\n      <td>-57.6152</td>\n      <td>39.218</td>\n      <td>93</td>\n      <td>100</td>\n      <td>15.18</td>\n      <td></td>\n    </tr>\n    <tr>\n      <th>117</th>\n      <td>117</td>\n      <td>lebu</td>\n      <td>-37.6167</td>\n      <td>-73.6500</td>\n      <td>56.390</td>\n      <td>91</td>\n      <td>100</td>\n      <td>10.22</td>\n      <td></td>\n    </tr>\n    <tr>\n      <th>177</th>\n      <td>177</td>\n      <td>berlevag</td>\n      <td>70.8578</td>\n      <td>29.0864</td>\n      <td>33.746</td>\n      <td>72</td>\n      <td>100</td>\n      <td>12.35</td>\n      <td></td>\n    </tr>\n    <tr>\n      <th>217</th>\n      <td>217</td>\n      <td>tombouctou</td>\n      <td>20.0000</td>\n      <td>-3.0000</td>\n      <td>75.560</td>\n      <td>55</td>\n      <td>100</td>\n      <td>10.27</td>\n      <td></td>\n    </tr>\n    <tr>\n      <th>221</th>\n      <td>221</td>\n      <td>severo-kurilsk</td>\n      <td>50.6789</td>\n      <td>156.1250</td>\n      <td>35.528</td>\n      <td>96</td>\n      <td>100</td>\n      <td>10.18</td>\n      <td></td>\n    </tr>\n    <tr>\n      <th>377</th>\n      <td>377</td>\n      <td>vao</td>\n      <td>-22.6667</td>\n      <td>167.4833</td>\n      <td>74.588</td>\n      <td>70</td>\n      <td>100</td>\n      <td>10.43</td>\n      <td></td>\n    </tr>\n    <tr>\n      <th>389</th>\n      <td>389</td>\n      <td>poronaysk</td>\n      <td>49.2167</td>\n      <td>143.1167</td>\n      <td>38.300</td>\n      <td>82</td>\n      <td>100</td>\n      <td>10.14</td>\n      <td></td>\n    </tr>\n    <tr>\n      <th>421</th>\n      <td>421</td>\n      <td>vakhrushev</td>\n      <td>48.9833</td>\n      <td>142.9667</td>\n      <td>35.474</td>\n      <td>97</td>\n      <td>100</td>\n      <td>10.43</td>\n      <td></td>\n    </tr>\n    <tr>\n      <th>1224</th>\n      <td>1224</td>\n      <td>marystown</td>\n      <td>47.1666</td>\n      <td>-55.1483</td>\n      <td>39.056</td>\n      <td>96</td>\n      <td>100</td>\n      <td>12.25</td>\n      <td></td>\n    </tr>\n  </tbody>\n</table>\n</div>"
     },
     "metadata": {},
     "execution_count": 83
    }
   ],
   "source": [
    "#temp below 80 \n",
    "#100% cloudy\n",
    "#wind speed over 10mph\n",
    "\n",
    "hotel_df = weather_df[weather_df['Temperature'] < 80]\n",
    "hotel_df = hotel_df[hotel_df['Cloudiness %'] == 100]\n",
    "hotel_df = hotel_df[hotel_df['Wind Speed (mph)'] > 10]\n",
    "hotel_df['Hotel Name'] = \"\"\n",
    "hotel_df"
   ]
  },
  {
   "cell_type": "markdown",
   "metadata": {},
   "source": [
    "### Hotel Map\n",
    "* Store into variable named `hotel_df`.\n",
    "* Add a \"Hotel Name\" column to the DataFrame.\n",
    "* Set parameters to search for hotels with 5000 meters.\n",
    "* Hit the Google Places API for each city's coordinates.\n",
    "* Store the first Hotel result into the DataFrame.\n",
    "* Plot markers on top of the heatmap."
   ]
  },
  {
   "cell_type": "code",
   "execution_count": null,
   "metadata": {},
   "outputs": [],
   "source": []
  },
  {
   "cell_type": "code",
   "execution_count": 88,
   "metadata": {},
   "outputs": [
    {
     "output_type": "execute_result",
     "data": {
      "text/plain": [
       "      Unnamed: 0            City  Latitude  Longitude  Temperature  Humidity  \\\n",
       "2              2   leningradskiy   69.3833   178.4167       19.436        92   \n",
       "25            25          burgeo   47.6167   -57.6152       39.218        93   \n",
       "117          117            lebu  -37.6167   -73.6500       56.390        91   \n",
       "177          177        berlevag   70.8578    29.0864       33.746        72   \n",
       "217          217      tombouctou   20.0000    -3.0000       75.560        55   \n",
       "221          221  severo-kurilsk   50.6789   156.1250       35.528        96   \n",
       "377          377             vao  -22.6667   167.4833       74.588        70   \n",
       "389          389       poronaysk   49.2167   143.1167       38.300        82   \n",
       "421          421      vakhrushev   48.9833   142.9667       35.474        97   \n",
       "1224        1224       marystown   47.1666   -55.1483       39.056        96   \n",
       "\n",
       "      Cloudiness %  Wind Speed (mph)  \\\n",
       "2              100             10.70   \n",
       "25             100             15.18   \n",
       "117            100             10.22   \n",
       "177            100             12.35   \n",
       "217            100             10.27   \n",
       "221            100             10.18   \n",
       "377            100             10.43   \n",
       "389            100             10.14   \n",
       "421            100             10.43   \n",
       "1224           100             12.25   \n",
       "\n",
       "                                       Hotel Name  \n",
       "2                                        NO HOTEL  \n",
       "25    The Old Salt Box Co. Skinner's House Burgeo  \n",
       "117                              Hotel Plaza Lebu  \n",
       "177             Berlevåg camping & Appartement AS  \n",
       "217                                      NO HOTEL  \n",
       "221                                      Kak Doma  \n",
       "377                        OURE TERA beach resort  \n",
       "389                                         Sever  \n",
       "421                                      NO HOTEL  \n",
       "1224          Marystown Hotel & Convention Centre  "
      ],
      "text/html": "<div>\n<style scoped>\n    .dataframe tbody tr th:only-of-type {\n        vertical-align: middle;\n    }\n\n    .dataframe tbody tr th {\n        vertical-align: top;\n    }\n\n    .dataframe thead th {\n        text-align: right;\n    }\n</style>\n<table border=\"1\" class=\"dataframe\">\n  <thead>\n    <tr style=\"text-align: right;\">\n      <th></th>\n      <th>Unnamed: 0</th>\n      <th>City</th>\n      <th>Latitude</th>\n      <th>Longitude</th>\n      <th>Temperature</th>\n      <th>Humidity</th>\n      <th>Cloudiness %</th>\n      <th>Wind Speed (mph)</th>\n      <th>Hotel Name</th>\n    </tr>\n  </thead>\n  <tbody>\n    <tr>\n      <th>2</th>\n      <td>2</td>\n      <td>leningradskiy</td>\n      <td>69.3833</td>\n      <td>178.4167</td>\n      <td>19.436</td>\n      <td>92</td>\n      <td>100</td>\n      <td>10.70</td>\n      <td>NO HOTEL</td>\n    </tr>\n    <tr>\n      <th>25</th>\n      <td>25</td>\n      <td>burgeo</td>\n      <td>47.6167</td>\n      <td>-57.6152</td>\n      <td>39.218</td>\n      <td>93</td>\n      <td>100</td>\n      <td>15.18</td>\n      <td>The Old Salt Box Co. Skinner's House Burgeo</td>\n    </tr>\n    <tr>\n      <th>117</th>\n      <td>117</td>\n      <td>lebu</td>\n      <td>-37.6167</td>\n      <td>-73.6500</td>\n      <td>56.390</td>\n      <td>91</td>\n      <td>100</td>\n      <td>10.22</td>\n      <td>Hotel Plaza Lebu</td>\n    </tr>\n    <tr>\n      <th>177</th>\n      <td>177</td>\n      <td>berlevag</td>\n      <td>70.8578</td>\n      <td>29.0864</td>\n      <td>33.746</td>\n      <td>72</td>\n      <td>100</td>\n      <td>12.35</td>\n      <td>Berlevåg camping &amp; Appartement AS</td>\n    </tr>\n    <tr>\n      <th>217</th>\n      <td>217</td>\n      <td>tombouctou</td>\n      <td>20.0000</td>\n      <td>-3.0000</td>\n      <td>75.560</td>\n      <td>55</td>\n      <td>100</td>\n      <td>10.27</td>\n      <td>NO HOTEL</td>\n    </tr>\n    <tr>\n      <th>221</th>\n      <td>221</td>\n      <td>severo-kurilsk</td>\n      <td>50.6789</td>\n      <td>156.1250</td>\n      <td>35.528</td>\n      <td>96</td>\n      <td>100</td>\n      <td>10.18</td>\n      <td>Kak Doma</td>\n    </tr>\n    <tr>\n      <th>377</th>\n      <td>377</td>\n      <td>vao</td>\n      <td>-22.6667</td>\n      <td>167.4833</td>\n      <td>74.588</td>\n      <td>70</td>\n      <td>100</td>\n      <td>10.43</td>\n      <td>OURE TERA beach resort</td>\n    </tr>\n    <tr>\n      <th>389</th>\n      <td>389</td>\n      <td>poronaysk</td>\n      <td>49.2167</td>\n      <td>143.1167</td>\n      <td>38.300</td>\n      <td>82</td>\n      <td>100</td>\n      <td>10.14</td>\n      <td>Sever</td>\n    </tr>\n    <tr>\n      <th>421</th>\n      <td>421</td>\n      <td>vakhrushev</td>\n      <td>48.9833</td>\n      <td>142.9667</td>\n      <td>35.474</td>\n      <td>97</td>\n      <td>100</td>\n      <td>10.43</td>\n      <td>NO HOTEL</td>\n    </tr>\n    <tr>\n      <th>1224</th>\n      <td>1224</td>\n      <td>marystown</td>\n      <td>47.1666</td>\n      <td>-55.1483</td>\n      <td>39.056</td>\n      <td>96</td>\n      <td>100</td>\n      <td>12.25</td>\n      <td>Marystown Hotel &amp; Convention Centre</td>\n    </tr>\n  </tbody>\n</table>\n</div>"
     },
     "metadata": {},
     "execution_count": 88
    }
   ],
   "source": [
    "# 4. Find a balloon store near the White House.\n",
    "hotel_names = []\n",
    "hotels_lat = []\n",
    "hotels_lng = []\n",
    "for i, row in hotel_df.iterrows():\n",
    "    search = \"Hotel\"\n",
    "    coords = f\"{row['Latitude']},{row['Longitude']}\"\n",
    "    radius = 5000\n",
    "    \n",
    "    # redefine params\n",
    "    params = {\n",
    "        \"location\": coords,\n",
    "        \"keyword\": search,\n",
    "        \"radius\": radius,\n",
    "        \"key\": g_key\n",
    "    }\n",
    "\n",
    "    # Build URL using the Google Maps API\n",
    "    base_url = \"https://maps.googleapis.com/maps/api/place/nearbysearch/json\"\n",
    "\n",
    "    # Run request\n",
    "    current_hotel = requests.get(base_url, params).json()\n",
    "    \n",
    "    if current_hotel['status'] != \"ZERO_RESULTS\":\n",
    "   \n",
    "        hotel_name = current_hotel[\"results\"][0][\"name\"]\n",
    "        hotel_lat = current_hotel[\"results\"][0][\"geometry\"][\"location\"][\"lat\"]\n",
    "        hotel_lng = current_hotel[\"results\"][0][\"geometry\"][\"location\"][\"lng\"]\n",
    "\n",
    "        hotel_names.append(hotel_name)\n",
    "        hotels_lat.append(hotel_lat)\n",
    "        hotels_lng.append(hotel_lng)\n",
    "    else:\n",
    "        hotel_names.append(\"NO HOTEL\")\n",
    "\n",
    "hotel_df['Hotel Name'] = hotel_names\n",
    "hotel_df"
   ]
  },
  {
   "cell_type": "code",
   "execution_count": 93,
   "metadata": {},
   "outputs": [],
   "source": [
    "# NOTE: Do not change any of the code in this cell\n",
    "\n",
    "# Using the template add the hotel marks to the heatmap\n",
    "info_box_template = \"\"\"\n",
    "<dl>\n",
    "<dt>Name</dt><dd>{Hotel Name}</dd>\n",
    "<dt>City</dt><dd>{City}</dd>\n",
    "\n",
    "</dl>\n",
    "\"\"\"\n",
    "# Store the DataFrame Row\n",
    "# NOTE: be sure to update with your DataFrame name\n",
    "hotel_info = [info_box_template.format(**row) for index, row in hotel_df.iterrows()]\n",
    "locations = hotel_df[[\"Latitude\", \"Longitude\"]]"
   ]
  },
  {
   "cell_type": "code",
   "execution_count": 94,
   "metadata": {},
   "outputs": [
    {
     "output_type": "display_data",
     "data": {
      "text/plain": "Figure(layout=FigureLayout(height='420px'))",
      "application/vnd.jupyter.widget-view+json": {
       "version_major": 2,
       "version_minor": 0,
       "model_id": "69a45d7475894d5ca814ae6cc5a75a22"
      }
     },
     "metadata": {}
    }
   ],
   "source": [
    "# Add marker layer ontop of heat map\n",
    "coordinates = zip(hotels_lat, hotels_lng)\n",
    "coordinates = list(coordinates)\n",
    "# Display figure\n",
    "markers = gmaps.marker_layer(coordinates)\n",
    "# Add the layer to the map\n",
    "fig.add_layer(markers)\n",
    "fig"
   ]
  },
  {
   "cell_type": "code",
   "execution_count": null,
   "metadata": {},
   "outputs": [],
   "source": []
  }
 ],
 "metadata": {
  "kernelspec": {
   "name": "python3610jvsc74a57bd038f934b83c7878c7af716cf61b4a3e24bc3639c5744e081035f4202c89c484f1",
   "display_name": "Python 3.6.10 64-bit ('PythonData': conda)"
  },
  "language_info": {
   "codemirror_mode": {
    "name": "ipython",
    "version": 3
   },
   "file_extension": ".py",
   "mimetype": "text/x-python",
   "name": "python",
   "nbconvert_exporter": "python",
   "pygments_lexer": "ipython3",
   "version": "3.6.10"
  },
  "latex_envs": {
   "LaTeX_envs_menu_present": true,
   "autoclose": false,
   "autocomplete": true,
   "bibliofile": "biblio.bib",
   "cite_by": "apalike",
   "current_citInitial": 1,
   "eqLabelWithNumbers": true,
   "eqNumInitial": 1,
   "hotkeys": {
    "equation": "Ctrl-E",
    "itemize": "Ctrl-I"
   },
   "labels_anchors": false,
   "latex_user_defs": false,
   "report_style_numbering": false,
   "user_envs_cfg": false
  }
 },
 "nbformat": 4,
 "nbformat_minor": 4
}